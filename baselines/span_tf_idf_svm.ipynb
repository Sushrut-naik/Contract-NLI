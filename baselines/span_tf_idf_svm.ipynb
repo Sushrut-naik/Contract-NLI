{
 "cells": [
  {
   "cell_type": "code",
   "execution_count": 1,
   "id": "4996a702",
   "metadata": {
    "execution": {
     "iopub.execute_input": "2024-10-06T21:25:54.904367Z",
     "iopub.status.busy": "2024-10-06T21:25:54.903991Z",
     "iopub.status.idle": "2024-10-06T21:25:56.276570Z",
     "shell.execute_reply": "2024-10-06T21:25:56.275743Z"
    },
    "papermill": {
     "duration": 1.38215,
     "end_time": "2024-10-06T21:25:56.278999",
     "exception": false,
     "start_time": "2024-10-06T21:25:54.896849",
     "status": "completed"
    },
    "tags": []
   },
   "outputs": [],
   "source": [
    "from sklearn.feature_extraction.text import TfidfVectorizer\n",
    "import numpy as np\n",
    "from utils import cfg, load_data, get_labels, get_hypothesis, tokenize, clean_str"
   ]
  },
  {
   "cell_type": "code",
   "execution_count": 3,
   "id": "dac81ccd",
   "metadata": {
    "execution": {
     "iopub.execute_input": "2024-10-06T21:25:56.981978Z",
     "iopub.status.busy": "2024-10-06T21:25:56.981661Z",
     "iopub.status.idle": "2024-10-06T21:25:56.986688Z",
     "shell.execute_reply": "2024-10-06T21:25:56.985874Z"
    },
    "papermill": {
     "duration": 0.013024,
     "end_time": "2024-10-06T21:25:56.988495",
     "exception": false,
     "start_time": "2024-10-06T21:25:56.975471",
     "status": "completed"
    },
    "tags": []
   },
   "outputs": [],
   "source": [
    "def clean_data(data: dict) -> None:\n",
    "    for i in range(len(data['documents'])):\n",
    "        data['documents'][i]['text'] = clean_str(data['documents'][i]['text'])\n",
    "        data['documents'][i]['text'] = tokenize(data['documents'][i]['text'])"
   ]
  },
  {
   "cell_type": "code",
   "execution_count": 4,
   "id": "4c6224ad",
   "metadata": {
    "execution": {
     "iopub.execute_input": "2024-10-06T21:25:56.999523Z",
     "iopub.status.busy": "2024-10-06T21:25:56.999235Z",
     "iopub.status.idle": "2024-10-06T21:25:57.021670Z",
     "shell.execute_reply": "2024-10-06T21:25:57.021013Z"
    },
    "papermill": {
     "duration": 0.029999,
     "end_time": "2024-10-06T21:25:57.023508",
     "exception": false,
     "start_time": "2024-10-06T21:25:56.993509",
     "status": "completed"
    },
    "tags": []
   },
   "outputs": [],
   "source": [
    "# For each document for each 17 hypothesis , we take all spans and make corosponding y as 1 if that span's hyposthesis is mentioned in \"spans\" else 0\n",
    "# so x is [spantext(vectorizedd using tfidf) + hypothesis(vectorized using tfidf)] for all spans and y is list of 1 or 0 for that span\n",
    "# For each 17 hypothesis of all document we mark 1 in which span it appears.\n",
    "# doc1 : hypo1 -> x = [[span1+hypo1],[span2+hypo1],...], y = [1,0,1,0,....]\n",
    "\n",
    "from sklearn.feature_extraction.text import TfidfVectorizer\n",
    "from tqdm import tqdm\n",
    "import scipy.sparse as sp\n",
    "import nltk\n",
    "def get_XY(data: dict, tfidf: TfidfVectorizer, hypothesis: dict, labels: dict, n_docs : int, threshold : float = 0.1) -> (list, list):\n",
    "\n",
    "    X = []\n",
    "    Y = []\n",
    "\n",
    "    hypothesis_vecs = {}\n",
    "    for key, val in hypothesis.items():\n",
    "        hypothesis_vecs[key] = tfidf.transform([val])\n",
    "\n",
    "    for i in tqdm(range(min(n_docs, len(data[\"documents\"])))):\n",
    "        doc_text = data[\"documents\"][i][\"text\"]\n",
    "\n",
    "        for key, val in hypothesis.items():\n",
    "            choice = data[\"documents\"][i][\"annotation_sets\"][0][\"annotations\"][key][\"choice\"]\n",
    "            if choice == \"NotMentioned\":\n",
    "                continue\n",
    "\n",
    "            spans_for_hypothesis = data[\"documents\"][i][\"annotation_sets\"][0][\"annotations\"][key][\"spans\"]\n",
    "\n",
    "            for j, span in enumerate(data[\"documents\"][i][\"spans\"]):\n",
    "                start_idx = span[0]\n",
    "                end_idx = span[1]\n",
    "\n",
    "                span_text = doc_text[start_idx:end_idx]\n",
    "                span_vector = tfidf.transform([span_text])\n",
    "\n",
    "                input_vec = sp.hstack([span_vector, hypothesis_vecs[key]])\n",
    "                # return X, Y\n",
    "                X += [input_vec]\n",
    "                Y += [1 if j in spans_for_hypothesis else 0]\n",
    "        \n",
    "    return sp.vstack(X), Y\n",
    "        "
   ]
  },
  {
   "cell_type": "code",
   "execution_count": 5,
   "id": "fcdac808",
   "metadata": {
    "execution": {
     "iopub.execute_input": "2024-10-06T21:25:57.035499Z",
     "iopub.status.busy": "2024-10-06T21:25:57.035224Z",
     "iopub.status.idle": "2024-10-06T21:26:06.112752Z",
     "shell.execute_reply": "2024-10-06T21:26:06.111759Z"
    },
    "papermill": {
     "duration": 9.085522,
     "end_time": "2024-10-06T21:26:06.115113",
     "exception": false,
     "start_time": "2024-10-06T21:25:57.029591",
     "status": "completed"
    },
    "tags": []
   },
   "outputs": [],
   "source": [
    "train = load_data(cfg['train_path'])\n",
    "clean_data(train)\n",
    "hypothesis = get_hypothesis(train)\n",
    "labels = get_labels()"
   ]
  },
  {
   "cell_type": "code",
   "execution_count": 6,
   "id": "16397554",
   "metadata": {
    "execution": {
     "iopub.execute_input": "2024-10-06T21:26:06.126872Z",
     "iopub.status.busy": "2024-10-06T21:26:06.126549Z",
     "iopub.status.idle": "2024-10-06T21:26:06.915649Z",
     "shell.execute_reply": "2024-10-06T21:26:06.914681Z"
    },
    "papermill": {
     "duration": 0.797618,
     "end_time": "2024-10-06T21:26:06.918079",
     "exception": false,
     "start_time": "2024-10-06T21:26:06.120461",
     "status": "completed"
    },
    "tags": []
   },
   "outputs": [
    {
     "data": {
      "text/html": [
       "<style>#sk-container-id-1 {color: black;background-color: white;}#sk-container-id-1 pre{padding: 0;}#sk-container-id-1 div.sk-toggleable {background-color: white;}#sk-container-id-1 label.sk-toggleable__label {cursor: pointer;display: block;width: 100%;margin-bottom: 0;padding: 0.3em;box-sizing: border-box;text-align: center;}#sk-container-id-1 label.sk-toggleable__label-arrow:before {content: \"▸\";float: left;margin-right: 0.25em;color: #696969;}#sk-container-id-1 label.sk-toggleable__label-arrow:hover:before {color: black;}#sk-container-id-1 div.sk-estimator:hover label.sk-toggleable__label-arrow:before {color: black;}#sk-container-id-1 div.sk-toggleable__content {max-height: 0;max-width: 0;overflow: hidden;text-align: left;background-color: #f0f8ff;}#sk-container-id-1 div.sk-toggleable__content pre {margin: 0.2em;color: black;border-radius: 0.25em;background-color: #f0f8ff;}#sk-container-id-1 input.sk-toggleable__control:checked~div.sk-toggleable__content {max-height: 200px;max-width: 100%;overflow: auto;}#sk-container-id-1 input.sk-toggleable__control:checked~label.sk-toggleable__label-arrow:before {content: \"▾\";}#sk-container-id-1 div.sk-estimator input.sk-toggleable__control:checked~label.sk-toggleable__label {background-color: #d4ebff;}#sk-container-id-1 div.sk-label input.sk-toggleable__control:checked~label.sk-toggleable__label {background-color: #d4ebff;}#sk-container-id-1 input.sk-hidden--visually {border: 0;clip: rect(1px 1px 1px 1px);clip: rect(1px, 1px, 1px, 1px);height: 1px;margin: -1px;overflow: hidden;padding: 0;position: absolute;width: 1px;}#sk-container-id-1 div.sk-estimator {font-family: monospace;background-color: #f0f8ff;border: 1px dotted black;border-radius: 0.25em;box-sizing: border-box;margin-bottom: 0.5em;}#sk-container-id-1 div.sk-estimator:hover {background-color: #d4ebff;}#sk-container-id-1 div.sk-parallel-item::after {content: \"\";width: 100%;border-bottom: 1px solid gray;flex-grow: 1;}#sk-container-id-1 div.sk-label:hover label.sk-toggleable__label {background-color: #d4ebff;}#sk-container-id-1 div.sk-serial::before {content: \"\";position: absolute;border-left: 1px solid gray;box-sizing: border-box;top: 0;bottom: 0;left: 50%;z-index: 0;}#sk-container-id-1 div.sk-serial {display: flex;flex-direction: column;align-items: center;background-color: white;padding-right: 0.2em;padding-left: 0.2em;position: relative;}#sk-container-id-1 div.sk-item {position: relative;z-index: 1;}#sk-container-id-1 div.sk-parallel {display: flex;align-items: stretch;justify-content: center;background-color: white;position: relative;}#sk-container-id-1 div.sk-item::before, #sk-container-id-1 div.sk-parallel-item::before {content: \"\";position: absolute;border-left: 1px solid gray;box-sizing: border-box;top: 0;bottom: 0;left: 50%;z-index: -1;}#sk-container-id-1 div.sk-parallel-item {display: flex;flex-direction: column;z-index: 1;position: relative;background-color: white;}#sk-container-id-1 div.sk-parallel-item:first-child::after {align-self: flex-end;width: 50%;}#sk-container-id-1 div.sk-parallel-item:last-child::after {align-self: flex-start;width: 50%;}#sk-container-id-1 div.sk-parallel-item:only-child::after {width: 0;}#sk-container-id-1 div.sk-dashed-wrapped {border: 1px dashed gray;margin: 0 0.4em 0.5em 0.4em;box-sizing: border-box;padding-bottom: 0.4em;background-color: white;}#sk-container-id-1 div.sk-label label {font-family: monospace;font-weight: bold;display: inline-block;line-height: 1.2em;}#sk-container-id-1 div.sk-label-container {text-align: center;}#sk-container-id-1 div.sk-container {/* jupyter's `normalize.less` sets `[hidden] { display: none; }` but bootstrap.min.css set `[hidden] { display: none !important; }` so we also need the `!important` here to be able to override the default hidden behavior on the sphinx rendered scikit-learn.org. See: https://github.com/scikit-learn/scikit-learn/issues/21755 */display: inline-block !important;position: relative;}#sk-container-id-1 div.sk-text-repr-fallback {display: none;}</style><div id=\"sk-container-id-1\" class=\"sk-top-container\"><div class=\"sk-text-repr-fallback\"><pre>TfidfVectorizer()</pre><b>In a Jupyter environment, please rerun this cell to show the HTML representation or trust the notebook. <br />On GitHub, the HTML representation is unable to render, please try loading this page with nbviewer.org.</b></div><div class=\"sk-container\" hidden><div class=\"sk-item\"><div class=\"sk-estimator sk-toggleable\"><input class=\"sk-toggleable__control sk-hidden--visually\" id=\"sk-estimator-id-1\" type=\"checkbox\" checked><label for=\"sk-estimator-id-1\" class=\"sk-toggleable__label sk-toggleable__label-arrow\">TfidfVectorizer</label><div class=\"sk-toggleable__content\"><pre>TfidfVectorizer()</pre></div></div></div></div></div>"
      ],
      "text/plain": [
       "TfidfVectorizer()"
      ]
     },
     "execution_count": 6,
     "metadata": {},
     "output_type": "execute_result"
    }
   ],
   "source": [
    "all_text = \"\"\n",
    "\n",
    "for i in range(len(train[\"documents\"])):\n",
    "    all_text += train[\"documents\"][i][\"text\"] + \" \"\n",
    "\n",
    "tfidf = TfidfVectorizer()\n",
    "tfidf.fit([all_text])"
   ]
  },
  {
   "cell_type": "code",
   "execution_count": 7,
   "id": "572663bc",
   "metadata": {
    "execution": {
     "iopub.execute_input": "2024-10-06T21:26:06.931672Z",
     "iopub.status.busy": "2024-10-06T21:26:06.931326Z",
     "iopub.status.idle": "2024-10-06T21:27:19.338794Z",
     "shell.execute_reply": "2024-10-06T21:27:19.337888Z"
    },
    "papermill": {
     "duration": 72.416995,
     "end_time": "2024-10-06T21:27:19.341468",
     "exception": false,
     "start_time": "2024-10-06T21:26:06.924473",
     "status": "completed"
    },
    "tags": []
   },
   "outputs": [
    {
     "name": "stderr",
     "output_type": "stream",
     "text": [
      "100%|██████████| 100/100 [01:10<00:00,  1.41it/s]\n"
     ]
    }
   ],
   "source": [
    "X_train, Y_train = get_XY(train, tfidf, hypothesis, labels=labels, n_docs=100)"
   ]
  },
  {
   "cell_type": "code",
   "execution_count": 8,
   "id": "73e1fcf3",
   "metadata": {
    "execution": {
     "iopub.execute_input": "2024-10-06T21:27:19.370460Z",
     "iopub.status.busy": "2024-10-06T21:27:19.370102Z",
     "iopub.status.idle": "2024-10-07T00:46:14.372436Z",
     "shell.execute_reply": "2024-10-07T00:46:14.371356Z"
    },
    "papermill": {
     "duration": 11935.037046,
     "end_time": "2024-10-07T00:46:14.392970",
     "exception": false,
     "start_time": "2024-10-06T21:27:19.355924",
     "status": "completed"
    },
    "tags": []
   },
   "outputs": [
    {
     "data": {
      "text/html": [
       "<style>#sk-container-id-2 {color: black;background-color: white;}#sk-container-id-2 pre{padding: 0;}#sk-container-id-2 div.sk-toggleable {background-color: white;}#sk-container-id-2 label.sk-toggleable__label {cursor: pointer;display: block;width: 100%;margin-bottom: 0;padding: 0.3em;box-sizing: border-box;text-align: center;}#sk-container-id-2 label.sk-toggleable__label-arrow:before {content: \"▸\";float: left;margin-right: 0.25em;color: #696969;}#sk-container-id-2 label.sk-toggleable__label-arrow:hover:before {color: black;}#sk-container-id-2 div.sk-estimator:hover label.sk-toggleable__label-arrow:before {color: black;}#sk-container-id-2 div.sk-toggleable__content {max-height: 0;max-width: 0;overflow: hidden;text-align: left;background-color: #f0f8ff;}#sk-container-id-2 div.sk-toggleable__content pre {margin: 0.2em;color: black;border-radius: 0.25em;background-color: #f0f8ff;}#sk-container-id-2 input.sk-toggleable__control:checked~div.sk-toggleable__content {max-height: 200px;max-width: 100%;overflow: auto;}#sk-container-id-2 input.sk-toggleable__control:checked~label.sk-toggleable__label-arrow:before {content: \"▾\";}#sk-container-id-2 div.sk-estimator input.sk-toggleable__control:checked~label.sk-toggleable__label {background-color: #d4ebff;}#sk-container-id-2 div.sk-label input.sk-toggleable__control:checked~label.sk-toggleable__label {background-color: #d4ebff;}#sk-container-id-2 input.sk-hidden--visually {border: 0;clip: rect(1px 1px 1px 1px);clip: rect(1px, 1px, 1px, 1px);height: 1px;margin: -1px;overflow: hidden;padding: 0;position: absolute;width: 1px;}#sk-container-id-2 div.sk-estimator {font-family: monospace;background-color: #f0f8ff;border: 1px dotted black;border-radius: 0.25em;box-sizing: border-box;margin-bottom: 0.5em;}#sk-container-id-2 div.sk-estimator:hover {background-color: #d4ebff;}#sk-container-id-2 div.sk-parallel-item::after {content: \"\";width: 100%;border-bottom: 1px solid gray;flex-grow: 1;}#sk-container-id-2 div.sk-label:hover label.sk-toggleable__label {background-color: #d4ebff;}#sk-container-id-2 div.sk-serial::before {content: \"\";position: absolute;border-left: 1px solid gray;box-sizing: border-box;top: 0;bottom: 0;left: 50%;z-index: 0;}#sk-container-id-2 div.sk-serial {display: flex;flex-direction: column;align-items: center;background-color: white;padding-right: 0.2em;padding-left: 0.2em;position: relative;}#sk-container-id-2 div.sk-item {position: relative;z-index: 1;}#sk-container-id-2 div.sk-parallel {display: flex;align-items: stretch;justify-content: center;background-color: white;position: relative;}#sk-container-id-2 div.sk-item::before, #sk-container-id-2 div.sk-parallel-item::before {content: \"\";position: absolute;border-left: 1px solid gray;box-sizing: border-box;top: 0;bottom: 0;left: 50%;z-index: -1;}#sk-container-id-2 div.sk-parallel-item {display: flex;flex-direction: column;z-index: 1;position: relative;background-color: white;}#sk-container-id-2 div.sk-parallel-item:first-child::after {align-self: flex-end;width: 50%;}#sk-container-id-2 div.sk-parallel-item:last-child::after {align-self: flex-start;width: 50%;}#sk-container-id-2 div.sk-parallel-item:only-child::after {width: 0;}#sk-container-id-2 div.sk-dashed-wrapped {border: 1px dashed gray;margin: 0 0.4em 0.5em 0.4em;box-sizing: border-box;padding-bottom: 0.4em;background-color: white;}#sk-container-id-2 div.sk-label label {font-family: monospace;font-weight: bold;display: inline-block;line-height: 1.2em;}#sk-container-id-2 div.sk-label-container {text-align: center;}#sk-container-id-2 div.sk-container {/* jupyter's `normalize.less` sets `[hidden] { display: none; }` but bootstrap.min.css set `[hidden] { display: none !important; }` so we also need the `!important` here to be able to override the default hidden behavior on the sphinx rendered scikit-learn.org. See: https://github.com/scikit-learn/scikit-learn/issues/21755 */display: inline-block !important;position: relative;}#sk-container-id-2 div.sk-text-repr-fallback {display: none;}</style><div id=\"sk-container-id-2\" class=\"sk-top-container\"><div class=\"sk-text-repr-fallback\"><pre>SVC(kernel=&#x27;linear&#x27;, probability=True)</pre><b>In a Jupyter environment, please rerun this cell to show the HTML representation or trust the notebook. <br />On GitHub, the HTML representation is unable to render, please try loading this page with nbviewer.org.</b></div><div class=\"sk-container\" hidden><div class=\"sk-item\"><div class=\"sk-estimator sk-toggleable\"><input class=\"sk-toggleable__control sk-hidden--visually\" id=\"sk-estimator-id-2\" type=\"checkbox\" checked><label for=\"sk-estimator-id-2\" class=\"sk-toggleable__label sk-toggleable__label-arrow\">SVC</label><div class=\"sk-toggleable__content\"><pre>SVC(kernel=&#x27;linear&#x27;, probability=True)</pre></div></div></div></div></div>"
      ],
      "text/plain": [
       "SVC(kernel='linear', probability=True)"
      ]
     },
     "execution_count": 8,
     "metadata": {},
     "output_type": "execute_result"
    }
   ],
   "source": [
    "from sklearn.svm import SVC\n",
    "\n",
    "model = SVC(kernel='linear', probability=True)\n",
    "model.fit(X_train, Y_train)"
   ]
  },
  {
   "cell_type": "code",
   "execution_count": 9,
   "id": "c68acdc2",
   "metadata": {
    "execution": {
     "iopub.execute_input": "2024-10-07T00:46:14.420657Z",
     "iopub.status.busy": "2024-10-07T00:46:14.420343Z",
     "iopub.status.idle": "2024-10-07T00:47:17.344240Z",
     "shell.execute_reply": "2024-10-07T00:47:17.343444Z"
    },
    "papermill": {
     "duration": 62.94031,
     "end_time": "2024-10-07T00:47:17.346465",
     "exception": false,
     "start_time": "2024-10-07T00:46:14.406155",
     "status": "completed"
    },
    "tags": []
   },
   "outputs": [
    {
     "name": "stderr",
     "output_type": "stream",
     "text": [
      "100%|██████████| 100/100 [00:58<00:00,  1.70it/s]\n"
     ]
    }
   ],
   "source": [
    "test = load_data(cfg['test_path'])\n",
    "clean_data(test)\n",
    "X_test, Y_test = get_XY(test, tfidf, hypothesis, labels=labels, n_docs=100)"
   ]
  },
  {
   "cell_type": "code",
   "execution_count": 10,
   "id": "ffe90376",
   "metadata": {
    "execution": {
     "iopub.execute_input": "2024-10-07T00:47:17.389541Z",
     "iopub.status.busy": "2024-10-07T00:47:17.389218Z",
     "iopub.status.idle": "2024-10-07T00:50:23.232231Z",
     "shell.execute_reply": "2024-10-07T00:50:23.231438Z"
    },
    "papermill": {
     "duration": 185.866838,
     "end_time": "2024-10-07T00:50:23.234564",
     "exception": false,
     "start_time": "2024-10-07T00:47:17.367726",
     "status": "completed"
    },
    "tags": []
   },
   "outputs": [],
   "source": [
    "Y_pred = model.predict(X_test)"
   ]
  },
  {
   "cell_type": "code",
   "execution_count": 11,
   "id": "628e71dd",
   "metadata": {
    "execution": {
     "iopub.execute_input": "2024-10-07T00:50:23.277871Z",
     "iopub.status.busy": "2024-10-07T00:50:23.277041Z",
     "iopub.status.idle": "2024-10-07T00:50:23.282290Z",
     "shell.execute_reply": "2024-10-07T00:50:23.281510Z"
    },
    "papermill": {
     "duration": 0.028639,
     "end_time": "2024-10-07T00:50:23.284065",
     "exception": false,
     "start_time": "2024-10-07T00:50:23.255426",
     "status": "completed"
    },
    "tags": []
   },
   "outputs": [],
   "source": [
    "from sklearn.metrics import precision_recall_curve\n",
    "from sklearn.metrics import accuracy_score\n",
    "\n",
    "def precision_at_80_recall(ypred, ytrue):\n",
    "    precision, recall, thresholds = precision_recall_curve(ytrue, ypred)\n",
    "    idx = (abs(recall - 0.8)).argmin()\n",
    "    return precision[idx]"
   ]
  },
  {
   "cell_type": "code",
   "execution_count": 12,
   "id": "9e570c1e",
   "metadata": {
    "execution": {
     "iopub.execute_input": "2024-10-07T00:50:23.325950Z",
     "iopub.status.busy": "2024-10-07T00:50:23.325656Z",
     "iopub.status.idle": "2024-10-07T00:50:23.330305Z",
     "shell.execute_reply": "2024-10-07T00:50:23.329473Z"
    },
    "papermill": {
     "duration": 0.027954,
     "end_time": "2024-10-07T00:50:23.332078",
     "exception": false,
     "start_time": "2024-10-07T00:50:23.304124",
     "status": "completed"
    },
    "tags": []
   },
   "outputs": [],
   "source": [
    "from sklearn.metrics import average_precision_score\n",
    "def mean_average_precision(Y_pred, Y_test):\n",
    "    aps = []\n",
    "    aps = average_precision_score(Y_test, Y_pred)\n",
    "    return np.mean(aps)"
   ]
  },
  {
   "cell_type": "code",
   "execution_count": 13,
   "id": "aa496404",
   "metadata": {
    "execution": {
     "iopub.execute_input": "2024-10-07T00:50:23.373799Z",
     "iopub.status.busy": "2024-10-07T00:50:23.373515Z",
     "iopub.status.idle": "2024-10-07T00:50:23.377182Z",
     "shell.execute_reply": "2024-10-07T00:50:23.376476Z"
    },
    "papermill": {
     "duration": 0.026849,
     "end_time": "2024-10-07T00:50:23.379243",
     "exception": false,
     "start_time": "2024-10-07T00:50:23.352394",
     "status": "completed"
    },
    "tags": []
   },
   "outputs": [],
   "source": [
    "all_y_pred_test = Y_pred\n",
    "all_y_true_test = Y_test"
   ]
  },
  {
   "cell_type": "code",
   "execution_count": 14,
   "id": "4f9fecc6",
   "metadata": {
    "execution": {
     "iopub.execute_input": "2024-10-07T00:50:23.421547Z",
     "iopub.status.busy": "2024-10-07T00:50:23.421262Z",
     "iopub.status.idle": "2024-10-07T00:50:23.505521Z",
     "shell.execute_reply": "2024-10-07T00:50:23.504642Z"
    },
    "papermill": {
     "duration": 0.106999,
     "end_time": "2024-10-07T00:50:23.507282",
     "exception": false,
     "start_time": "2024-10-07T00:50:23.400283",
     "status": "completed"
    },
    "tags": []
   },
   "outputs": [
    {
     "name": "stdout",
     "output_type": "stream",
     "text": [
      "Precision @ 80% recall:  0.02521623982193672\n",
      "Mean Average Precision:  0.02521623982193672\n"
     ]
    }
   ],
   "source": [
    "prec_arr = []\n",
    "prec_arr = precision_at_80_recall(Y_pred, Y_test)\n",
    "\n",
    "print(\"Precision @ 80% recall: \", np.mean(np.array(prec_arr)))\n",
    "print(\"Mean Average Precision: \", mean_average_precision(Y_pred, Y_test))"
   ]
  },
  {
   "cell_type": "code",
   "execution_count": null,
   "id": "34b4c3fd",
   "metadata": {
    "execution": {
     "iopub.execute_input": "2024-10-07T00:50:23.549731Z",
     "iopub.status.busy": "2024-10-07T00:50:23.549464Z",
     "iopub.status.idle": "2024-10-07T00:50:36.867784Z",
     "shell.execute_reply": "2024-10-07T00:50:36.866587Z"
    },
    "papermill": {
     "duration": 13.342223,
     "end_time": "2024-10-07T00:50:36.870333",
     "exception": false,
     "start_time": "2024-10-07T00:50:23.528110",
     "status": "completed"
    },
    "tags": []
   },
   "outputs": [],
   "source": []
  },
  {
   "cell_type": "code",
   "execution_count": null,
   "id": "c66fb676",
   "metadata": {
    "execution": {
     "iopub.execute_input": "2024-10-07T00:50:36.914365Z",
     "iopub.status.busy": "2024-10-07T00:50:36.914002Z",
     "iopub.status.idle": "2024-10-07T00:50:38.752278Z",
     "shell.execute_reply": "2024-10-07T00:50:38.751320Z"
    },
    "papermill": {
     "duration": 1.862819,
     "end_time": "2024-10-07T00:50:38.754450",
     "exception": false,
     "start_time": "2024-10-07T00:50:36.891631",
     "status": "completed"
    },
    "tags": []
   },
   "outputs": [],
   "source": []
  },
  {
   "cell_type": "code",
   "execution_count": null,
   "id": "1b66a655",
   "metadata": {
    "papermill": {
     "duration": 0.021618,
     "end_time": "2024-10-07T00:50:38.797949",
     "exception": false,
     "start_time": "2024-10-07T00:50:38.776331",
     "status": "completed"
    },
    "tags": []
   },
   "outputs": [],
   "source": []
  }
 ],
 "metadata": {
  "kaggle": {
   "accelerator": "nvidiaTeslaT4",
   "dataSources": [
    {
     "datasetId": 5827782,
     "sourceId": 9562849,
     "sourceType": "datasetVersion"
    }
   ],
   "dockerImageVersionId": 30787,
   "isGpuEnabled": true,
   "isInternetEnabled": true,
   "language": "python",
   "sourceType": "notebook"
  },
  "kernelspec": {
   "display_name": "Python 3",
   "language": "python",
   "name": "python3"
  },
  "language_info": {
   "codemirror_mode": {
    "name": "ipython",
    "version": 3
   },
   "file_extension": ".py",
   "mimetype": "text/x-python",
   "name": "python",
   "nbconvert_exporter": "python",
   "pygments_lexer": "ipython3",
   "version": "3.10.12"
  },
  "papermill": {
   "default_parameters": {},
   "duration": 12287.525628,
   "end_time": "2024-10-07T00:50:39.438259",
   "environment_variables": {},
   "exception": null,
   "input_path": "__notebook__.ipynb",
   "output_path": "__notebook__.ipynb",
   "parameters": {},
   "start_time": "2024-10-06T21:25:51.912631",
   "version": "2.6.0"
  }
 },
 "nbformat": 4,
 "nbformat_minor": 5
}
